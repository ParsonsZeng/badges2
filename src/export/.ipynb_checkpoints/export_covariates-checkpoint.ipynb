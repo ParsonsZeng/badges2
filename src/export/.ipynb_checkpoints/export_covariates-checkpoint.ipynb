{
 "cells": [
  {
   "cell_type": "code",
   "execution_count": 1,
   "metadata": {
    "collapsed": true
   },
   "outputs": [],
   "source": [
    "import argparse\n",
    "import psycopg2 as pg\n",
    "import pandas as pd\n",
    "import numpy as np\n",
    "#import sys\n",
    "#sys.path.append(\"../\")\n",
    "#from export.config import ZERO_TIME \n",
    "#from export.time_convert import convert"
   ]
  },
  {
   "cell_type": "code",
   "execution_count": 2,
   "metadata": {
    "collapsed": true
   },
   "outputs": [],
   "source": [
    "conn = pg.connect(database=\"stackexchange\", user=\"utkarsh\", password=\"12u34\", host=\"psql-science.mpi-sws.org\") "
   ]
  },
  {
   "cell_type": "markdown",
   "metadata": {},
   "source": [
    "# GET BASIC STATS"
   ]
  },
  {
   "cell_type": "code",
   "execution_count": 3,
   "metadata": {
    "collapsed": true
   },
   "outputs": [],
   "source": [
    "df = pd.read_sql_query(\"SELECT id, reputation, location, views, upvotes, downvotes, age FROM users\", conn) \n",
    "df.head()"
   ]
  },
  {
   "cell_type": "code",
   "execution_count": 4,
   "metadata": {
    "collapsed": false
   },
   "outputs": [],
   "source": [
    "##df = df.rename(columns={\"id\": \"userid\"})\n",
    "df = df[(df.id!=-1) & (~df.id.isnull())]\n",
    "##df = df[~df.isnull().any(axis=1)]"
   ]
  },
  {
   "cell_type": "code",
   "execution_count": 5,
   "metadata": {
    "collapsed": false
   },
   "outputs": [],
   "source": [
    "df[\"reputation\"] = df[\"reputation\"].apply(lambda v: np.log(1+v))\n",
    "df[\"views\"]      = df[\"views\"].apply(lambda v: np.log(1+v))\n",
    "df[\"upvotes\"]    = df[\"upvotes\"].apply(lambda v: np.log(1+v))\n",
    "df[\"downvotes\"]  = df[\"downvotes\"].apply(lambda v: np.log(1+v))"
   ]
  },
  {
   "cell_type": "code",
   "execution_count": null,
   "metadata": {
    "collapsed": true
   },
   "outputs": [],
   "source": [
    "df.head()"
   ]
  },
  {
   "cell_type": "markdown",
   "metadata": {},
   "source": [
    "# APPEND COMMENTING STATS"
   ]
  },
  {
   "cell_type": "code",
   "execution_count": 6,
   "metadata": {
    "collapsed": false
   },
   "outputs": [],
   "source": [
    "user2comments = pd.read_sql_query(\"SELECT userid as id, count(*) as comments FROM comments GROUP BY userid\", conn)    \n",
    "user2comments[\"comments\"] = user2comments[\"comments\"].apply(lambda v: np.log(1+v))\n",
    "user2comments.set_index(\"id\", inplace=True)"
   ]
  },
  {
   "cell_type": "code",
   "execution_count": 7,
   "metadata": {
    "collapsed": true
   },
   "outputs": [],
   "source": [
    "df = df.join(user2comments, on='id', how=\"outer\")"
   ]
  },
  {
   "cell_type": "markdown",
   "metadata": {},
   "source": [
    "# CALCULATE EMBEDDINGS"
   ]
  },
  {
   "cell_type": "code",
   "execution_count": 8,
   "metadata": {
    "collapsed": false
   },
   "outputs": [
    {
     "data": {
      "text/html": [
       "<div>\n",
       "<style>\n",
       "    .dataframe thead tr:only-child th {\n",
       "        text-align: right;\n",
       "    }\n",
       "\n",
       "    .dataframe thead th {\n",
       "        text-align: left;\n",
       "    }\n",
       "\n",
       "    .dataframe tbody tr th {\n",
       "        vertical-align: top;\n",
       "    }\n",
       "</style>\n",
       "<table border=\"1\" class=\"dataframe\">\n",
       "  <thead>\n",
       "    <tr style=\"text-align: right;\">\n",
       "      <th></th>\n",
       "      <th>id</th>\n",
       "      <th>reputation</th>\n",
       "      <th>location</th>\n",
       "      <th>views</th>\n",
       "      <th>upvotes</th>\n",
       "      <th>downvotes</th>\n",
       "      <th>age</th>\n",
       "      <th>comments</th>\n",
       "    </tr>\n",
       "  </thead>\n",
       "  <tbody>\n",
       "    <tr>\n",
       "      <th>0</th>\n",
       "      <td>2182446.0</td>\n",
       "      <td>0.693147</td>\n",
       "      <td>None</td>\n",
       "      <td>1.098612</td>\n",
       "      <td>0.0</td>\n",
       "      <td>0.0</td>\n",
       "      <td>NaN</td>\n",
       "      <td>2.302585</td>\n",
       "    </tr>\n",
       "    <tr>\n",
       "      <th>1</th>\n",
       "      <td>2182447.0</td>\n",
       "      <td>0.693147</td>\n",
       "      <td>None</td>\n",
       "      <td>1.098612</td>\n",
       "      <td>0.0</td>\n",
       "      <td>0.0</td>\n",
       "      <td>NaN</td>\n",
       "      <td>NaN</td>\n",
       "    </tr>\n",
       "    <tr>\n",
       "      <th>2</th>\n",
       "      <td>2182448.0</td>\n",
       "      <td>0.693147</td>\n",
       "      <td>None</td>\n",
       "      <td>1.609438</td>\n",
       "      <td>0.0</td>\n",
       "      <td>0.0</td>\n",
       "      <td>NaN</td>\n",
       "      <td>NaN</td>\n",
       "    </tr>\n",
       "    <tr>\n",
       "      <th>3</th>\n",
       "      <td>2182449.0</td>\n",
       "      <td>0.693147</td>\n",
       "      <td>None</td>\n",
       "      <td>0.000000</td>\n",
       "      <td>0.0</td>\n",
       "      <td>0.0</td>\n",
       "      <td>NaN</td>\n",
       "      <td>NaN</td>\n",
       "    </tr>\n",
       "    <tr>\n",
       "      <th>4</th>\n",
       "      <td>2182450.0</td>\n",
       "      <td>0.693147</td>\n",
       "      <td>None</td>\n",
       "      <td>0.000000</td>\n",
       "      <td>0.0</td>\n",
       "      <td>0.0</td>\n",
       "      <td>NaN</td>\n",
       "      <td>NaN</td>\n",
       "    </tr>\n",
       "  </tbody>\n",
       "</table>\n",
       "</div>"
      ],
      "text/plain": [
       "          id  reputation location     views  upvotes  downvotes  age  comments\n",
       "0  2182446.0    0.693147     None  1.098612      0.0        0.0  NaN  2.302585\n",
       "1  2182447.0    0.693147     None  1.098612      0.0        0.0  NaN       NaN\n",
       "2  2182448.0    0.693147     None  1.609438      0.0        0.0  NaN       NaN\n",
       "3  2182449.0    0.693147     None  0.000000      0.0        0.0  NaN       NaN\n",
       "4  2182450.0    0.693147     None  0.000000      0.0        0.0  NaN       NaN"
      ]
     },
     "execution_count": 8,
     "metadata": {},
     "output_type": "execute_result"
    }
   ],
   "source": [
    "df.head()"
   ]
  },
  {
   "cell_type": "code",
   "execution_count": 9,
   "metadata": {
    "collapsed": true
   },
   "outputs": [],
   "source": [
    "df.to_csv(\"../../data/badges/user_features.tsv\", sep=\"\\t\", index=False, header=True)"
   ]
  },
  {
   "cell_type": "code",
   "execution_count": 10,
   "metadata": {
    "collapsed": true
   },
   "outputs": [],
   "source": [
    "import export_location_embeddings #GENERATE AND SAVE EMBEDDINGS!\n",
    "export_location_embeddings.main()"
   ]
  },
  {
   "cell_type": "code",
   "execution_count": 11,
   "metadata": {
    "collapsed": true
   },
   "outputs": [],
   "source": [
    "user2city = pd.read_csv(\"../../data/badges/user_city_clusters.tsv\", sep=\"\\t\")\n",
    "user2state = pd.read_csv(\"../../data/badges/user_state_clusters.tsv\", sep=\"\\t\")"
   ]
  },
  {
   "cell_type": "markdown",
   "metadata": {},
   "source": [
    "# APPEND EMBEDDING RESULTS"
   ]
  },
  {
   "cell_type": "code",
   "execution_count": 12,
   "metadata": {
    "collapsed": false
   },
   "outputs": [],
   "source": [
    "user2city.set_index(\"id\", inplace=True)\n",
    "df = df.join(user2city, on='id', how=\"outer\")"
   ]
  },
  {
   "cell_type": "code",
   "execution_count": 13,
   "metadata": {
    "collapsed": true
   },
   "outputs": [],
   "source": [
    "user2state.set_index(\"id\", inplace=True)\n",
    "df = df.join(user2state, on='id', how=\"outer\")"
   ]
  },
  {
   "cell_type": "markdown",
   "metadata": {},
   "source": [
    "# SAVE RESULTS"
   ]
  },
  {
   "cell_type": "code",
   "execution_count": 14,
   "metadata": {
    "collapsed": false
   },
   "outputs": [
    {
     "name": "stdout",
     "output_type": "stream",
     "text": [
      "3473096\n",
      "            id  reputation location     views  upvotes  downvotes  age  \\\n",
      "0  2.18245e+06    0.693147     None  1.098612      0.0        0.0  NaN   \n",
      "1  2.18245e+06    0.693147     None  1.098612      0.0        0.0  NaN   \n",
      "2  2.18245e+06    0.693147     None  1.609438      0.0        0.0  NaN   \n",
      "3  2.18245e+06    0.693147     None  0.000000      0.0        0.0  NaN   \n",
      "4  2.18245e+06    0.693147     None  0.000000      0.0        0.0  NaN   \n",
      "\n",
      "   comments  c0  c1  c2  c3  c4  s0  s1  s2  s3  s4  \n",
      "0  2.302585 NaN NaN NaN NaN NaN NaN NaN NaN NaN NaN  \n",
      "1       NaN NaN NaN NaN NaN NaN NaN NaN NaN NaN NaN  \n",
      "2       NaN NaN NaN NaN NaN NaN NaN NaN NaN NaN NaN  \n",
      "3       NaN NaN NaN NaN NaN NaN NaN NaN NaN NaN NaN  \n",
      "4       NaN NaN NaN NaN NaN NaN NaN NaN NaN NaN NaN  \n"
     ]
    }
   ],
   "source": [
    "print(len(df))\n",
    "print(df.head())"
   ]
  },
  {
   "cell_type": "code",
   "execution_count": 15,
   "metadata": {
    "collapsed": false
   },
   "outputs": [],
   "source": [
    "df = df[(df.id!=-1) & (~df.id.isnull())]\n",
    "df[\"id\"] = df[\"id\"].apply(lambda v: int(v))\n",
    "df.to_csv(\"../../data/badges/covariates.tsv\", sep=\"\\t\", index=False, header=True)"
   ]
  },
  {
   "cell_type": "code",
   "execution_count": null,
   "metadata": {
    "collapsed": true
   },
   "outputs": [],
   "source": []
  }
 ],
 "metadata": {
  "anaconda-cloud": {},
  "kernelspec": {
   "display_name": "Python [Root]",
   "language": "python",
   "name": "Python [Root]"
  },
  "language_info": {
   "codemirror_mode": {
    "name": "ipython",
    "version": 3
   },
   "file_extension": ".py",
   "mimetype": "text/x-python",
   "name": "python",
   "nbconvert_exporter": "python",
   "pygments_lexer": "ipython3",
   "version": "3.5.2"
  }
 },
 "nbformat": 4,
 "nbformat_minor": 0
}
