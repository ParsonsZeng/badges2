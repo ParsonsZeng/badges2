{
 "cells": [
  {
   "cell_type": "code",
   "execution_count": 1,
   "metadata": {
    "collapsed": true
   },
   "outputs": [],
   "source": [
    "import numpy as np\n",
    "import pandas as pd\n",
    "from matplotlib import pyplot\n",
    "\n",
    "import sys\n",
    "sys.path.append(\"../\")\n",
    "\n",
    "from analytics.classification_aux import em2_classification_cached\n",
    "from classification import twopoisson_em\n",
    "from classification import visualization\n",
    "\n",
    "from analytics.classification_aux import extract_train_test, print_results, compare_results\n",
    "from aux.events_io import load_events, store_events\n",
    "from classification.nhst_testing import *\n",
    "\n",
    "##########################################\n",
    "\n",
    "import logging\n",
    "from imp import reload\n",
    "reload(logging)\n",
    "fmt = '[%(process)4d][%(asctime)s][%(levelname)-5s][%(module)s:%(lineno)d/%(funcName)s] %(message)s'\n",
    "logging.basicConfig(format=fmt, level=logging.INFO, datefmt='%I:%M:%S')\n",
    "\n",
    "%matplotlib inline"
   ]
  },
  {
   "cell_type": "code",
   "execution_count": 2,
   "metadata": {
    "collapsed": true
   },
   "outputs": [],
   "source": [
    "user2features = pd.read_csv(\"../../data/badges/covariates.tsv\", sep=\"\\t\")\n",
    "samples = pd.read_csv(\"../../data/badges/tagedits/researchassistant.tsv\", sep=\"\\t\")"
   ]
  },
  {
   "cell_type": "code",
   "execution_count": 3,
   "metadata": {
    "collapsed": true
   },
   "outputs": [],
   "source": [
    "id2events = load_events(samples)"
   ]
  },
  {
   "cell_type": "code",
   "execution_count": 18,
   "metadata": {
    "collapsed": false
   },
   "outputs": [],
   "source": [
    "import matplotlib\n",
    "from scipy.stats import chi2\n",
    "from matplotlib import pyplot\n",
    "import seaborn as sns; sns.set()\n",
    "\n",
    "\n",
    "TAGEDITOR_INTRO=762.209\n",
    "TAGEDITOR_MOD=923.0\n",
    "RESEARCHASSISTANT_INTRO=1286.274\n",
    "\n",
    "\n",
    "\n",
    "def pyplot_reset():\n",
    "    pyplot.cla()\n",
    "    pyplot.clf()\n",
    "    pyplot.close()\n",
    "    matplotlib.rcParams.update(matplotlib.rcParamsDefault)\n",
    "    \n",
    "\n",
    "def extract_position(events, v):\n",
    "    actions = np.asarray(events[\"action\"])\n",
    "    pos = sum(v>actions)-1 \n",
    "    return pos\n",
    "    \n",
    "\n",
    "def plot_badge(events, l, color=\"black\"):\n",
    "    if l not in events: return\n",
    "    v = events[l][0]\n",
    "    pos = extract_position(events, v)+0.5\n",
    "    pyplot.axvline(x=pos, color=color, lw=3)\n",
    "    ymin, ymax = pyplot.gca().get_ylim()\n",
    "    pyplot.text(pos, ymin*2, r\" badge awarding, $b_u$\",\n",
    "                rotation=90, fontsize=25, color=color,\n",
    "                verticalalignment=\"bottom\", horizontalalignment=\"right\")\n",
    "    \n",
    "\n",
    "def plot_badge_intro(events, l, v, color=\"blue\"):\n",
    "    pos = extract_position(events, v)+0.5\n",
    "    pyplot.axvline(x=pos, color=color, lw=3)\n",
    "    ymin, ymax = pyplot.gca().get_ylim()\n",
    "    pyplot.text(pos, ymin*2, \" %s\" % (l),\n",
    "                rotation=90, fontsize=25, color=color,\n",
    "                verticalalignment=\"bottom\", horizontalalignment=\"right\")    \n",
    "    \n",
    "\n",
    "def plot_events(events):\n",
    "    actions = np.asarray(sorted(events[\"action\"]))\n",
    "    \n",
    "    diffs = np.diff(sorted(list(actions)+events[\"max_time\"]))\n",
    "    xs = list(range(len(actions)+1))\n",
    "    pyplot.plot(xs, list(diffs)+[diffs[-1]], drawstyle=\"steps-post\", lw=3, color=\"salmon\")\n",
    "    \n",
    "    positions = [i for i, t in enumerate(sorted(actions)) if i%10==0]\n",
    "    #labels = [\"%i (%.1f)\" % (i, t) for i, t in enumerate(sorted(actions)) if i%10==0]\n",
    "    labels = [\"%i\" % (i) for i, t in enumerate(sorted(actions)) if i%10==0]\n",
    "    pyplot.xticks(positions, labels, rotation=0, horizontalalignment=\"right\")#, labelsize=20)#, rotation_mode=\"anchor\")\n",
    "    \n",
    "    ##delay between start_time and the next action\n",
    "    #pos = extract_position(events, events[\"start_time\"][0])\n",
    "    #nxt = actions[pos+1]\n",
    "    #delay = nxt - events[\"start_time\"][0]\n",
    "    #pyplot.plot([pos, pos+1], [delay, delay], drawstyle=\"steps-post\", lw=2, color=\"red\")\n",
    "\n",
    "    pyplot.yscale(\"log\")\n",
    "    pyplot.grid(True)\n",
    "    pyplot.xlabel(\"action number\", fontsize=25)\n",
    "    pyplot.ylabel(\"#days between actions\", fontsize=25)\n",
    "    pyplot.xlim((-2, len(actions)+1))\n",
    "    pyplot.gca().tick_params(axis='both', which='major', labelsize=20)\n",
    "\n",
    "\n",
    "\n",
    "def plot_user(uid):\n",
    "    events = id2events[uid]\n",
    "    actions = events.get(\"action\", [])\n",
    "    plot_events(events)\n",
    "\n",
    "    #plot_badge(events, \"tag_editor\")\n",
    "    plot_badge(events, \"research_assistant\", color=\"black\")\n",
    "    #plot_badge(events, \"research_assistant*\")\n",
    "    \n",
    "    #plot_badge_intro(events, \"TAGEDITOR\", TAGEDITOR_INTRO, color=\"blue\")\n",
    "    #plot_badge_intro(events, \"TAGEDITORM\", TAGEDITOR_MOD, color=\"blue\")\n",
    "    plot_badge_intro(events, r\"badge introduction, $\\tau$\", RESEARCHASSISTANT_INTRO, color=\"black\")\n",
    "    \n"
   ]
  },
  {
   "cell_type": "code",
   "execution_count": 19,
   "metadata": {
    "collapsed": false
   },
   "outputs": [
    {
     "name": "stderr",
     "output_type": "stream",
     "text": [
      "[30517][10:48:18][INFO ][plots:26/savefig] [plots.savefig] Saving plot to ../../data/sample_user.pdf\n",
      "[30517][10:48:18][WARNING][plots:31/savefig] [plots.savefig] Overwritting ../../data/sample_user.pdf\n"
     ]
    }
   ],
   "source": [
    "pyplot_reset()\n",
    "matplotlib.rcParams['pdf.fonttype'] = 42\n",
    "matplotlib.rcParams['ps.fonttype'] = 42  \n",
    "matplotlib.rcParams['text.usetex'] = True       \n",
    "\n",
    "plot_user(1288)\n",
    "\n",
    "from analytics.plots import pyplot_savefig\n",
    "\n",
    "pyplot.gcf().subplots_adjust(bottom=0.15, left=0.15)# right=0.85, left=0.15)\n",
    "matplotlib.rcParams['pdf.fonttype'] = 42\n",
    "matplotlib.rcParams['ps.fonttype'] = 42     \n",
    "matplotlib.rcParams['text.usetex'] = True       \n",
    "\n",
    "pyplot_savefig(\"../../data/sample_user.pdf\")"
   ]
  },
  {
   "cell_type": "code",
   "execution_count": 20,
   "metadata": {
    "collapsed": false
   },
   "outputs": [
    {
     "data": {
      "text/html": [
       "<div>\n",
       "<style>\n",
       "    .dataframe thead tr:only-child th {\n",
       "        text-align: right;\n",
       "    }\n",
       "\n",
       "    .dataframe thead th {\n",
       "        text-align: left;\n",
       "    }\n",
       "\n",
       "    .dataframe tbody tr th {\n",
       "        vertical-align: top;\n",
       "    }\n",
       "</style>\n",
       "<table border=\"1\" class=\"dataframe\">\n",
       "  <thead>\n",
       "    <tr style=\"text-align: right;\">\n",
       "      <th></th>\n",
       "      <th>id</th>\n",
       "      <th>reputation</th>\n",
       "      <th>location</th>\n",
       "      <th>views</th>\n",
       "      <th>upvotes</th>\n",
       "      <th>downvotes</th>\n",
       "      <th>age</th>\n",
       "      <th>comments</th>\n",
       "      <th>c0</th>\n",
       "      <th>c1</th>\n",
       "      <th>c2</th>\n",
       "      <th>c3</th>\n",
       "      <th>c4</th>\n",
       "      <th>s0</th>\n",
       "      <th>s1</th>\n",
       "      <th>s2</th>\n",
       "      <th>s3</th>\n",
       "      <th>s4</th>\n",
       "    </tr>\n",
       "  </thead>\n",
       "  <tbody>\n",
       "    <tr>\n",
       "      <th>959</th>\n",
       "      <td>1288</td>\n",
       "      <td>11.931076</td>\n",
       "      <td>Charlotte, NC</td>\n",
       "      <td>11.542309</td>\n",
       "      <td>9.575539</td>\n",
       "      <td>9.1072</td>\n",
       "      <td>40.0</td>\n",
       "      <td>8.085795</td>\n",
       "      <td>3.683458</td>\n",
       "      <td>3.035432</td>\n",
       "      <td>2.926652</td>\n",
       "      <td>2.379401</td>\n",
       "      <td>2.409712</td>\n",
       "      <td>2.932914</td>\n",
       "      <td>3.527206</td>\n",
       "      <td>3.681607</td>\n",
       "      <td>3.763656</td>\n",
       "      <td>3.322067</td>\n",
       "    </tr>\n",
       "  </tbody>\n",
       "</table>\n",
       "</div>"
      ],
      "text/plain": [
       "       id  reputation       location      views   upvotes  downvotes   age  \\\n",
       "959  1288   11.931076  Charlotte, NC  11.542309  9.575539     9.1072  40.0   \n",
       "\n",
       "     comments        c0        c1        c2        c3        c4        s0  \\\n",
       "959  8.085795  3.683458  3.035432  2.926652  2.379401  2.409712  2.932914   \n",
       "\n",
       "           s1        s2        s3        s4  \n",
       "959  3.527206  3.681607  3.763656  3.322067  "
      ]
     },
     "execution_count": 20,
     "metadata": {},
     "output_type": "execute_result"
    }
   ],
   "source": [
    "u = user2features[user2features.id==1288]\n",
    "u"
   ]
  },
  {
   "cell_type": "code",
   "execution_count": 7,
   "metadata": {
    "collapsed": false
   },
   "outputs": [
    {
     "name": "stdout",
     "output_type": "stream",
     "text": [
      "\\small{id} & \\small{ 1288 }\\\\\n",
      "\\small{age} & \\small{ 40 }\\\\\n",
      "\\small{location} & \\small{ Charlotte, NC }\\\\\n",
      "\\small{views} & \\small{ 102981 }\\\\\n",
      "\\small{comments} & \\small{ 3246 }\\\\\n",
      "\\small{upvotes} & \\small{ 14407 }\\\\\n",
      "\\small{downvotes} & \\small{ 9019 }\\\\\n"
     ]
    }
   ],
   "source": [
    "print(\"\\\\small{id} & \\\\small{\", int(u.id), \"}\\\\\\\\\")\n",
    "print(\"\\\\small{age} & \\\\small{\", int(u.age), \"}\\\\\\\\\")\n",
    "print(\"\\\\small{location} & \\\\small{\", u.location.values[0], \"}\\\\\\\\\")\n",
    "print(\"\\\\small{views} & \\\\small{\", int(np.exp(u.views)-1), \"}\\\\\\\\\")\n",
    "print(\"\\\\small{comments} & \\\\small{\", int(np.exp(u.comments)-1), \"}\\\\\\\\\")\n",
    "print(\"\\\\small{upvotes} & \\\\small{\", int(np.exp(u.upvotes)-1), \"}\\\\\\\\\")\n",
    "print(\"\\\\small{downvotes} & \\\\small{\", int(np.exp(u.downvotes)-1), \"}\\\\\\\\\")"
   ]
  },
  {
   "cell_type": "code",
   "execution_count": null,
   "metadata": {
    "collapsed": true
   },
   "outputs": [],
   "source": []
  }
 ],
 "metadata": {
  "anaconda-cloud": {},
  "kernelspec": {
   "display_name": "Python [Root]",
   "language": "python",
   "name": "Python [Root]"
  },
  "language_info": {
   "codemirror_mode": {
    "name": "ipython",
    "version": 3
   },
   "file_extension": ".py",
   "mimetype": "text/x-python",
   "name": "python",
   "nbconvert_exporter": "python",
   "pygments_lexer": "ipython3",
   "version": "3.5.2"
  }
 },
 "nbformat": 4,
 "nbformat_minor": 0
}
