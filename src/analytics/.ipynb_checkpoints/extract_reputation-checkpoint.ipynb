{
 "cells": [
  {
   "cell_type": "code",
   "execution_count": 10,
   "metadata": {
    "collapsed": true
   },
   "outputs": [],
   "source": [
    "import argparse\n",
    "import psycopg2 as pg\n",
    "import pandas as pd\n",
    "import numpy as np\n",
    "import sys\n",
    "sys.path.append(\"../\")\n",
    "#from export.config import ZERO_TIME \n",
    "from export.time_convert import convert"
   ]
  },
  {
   "cell_type": "code",
   "execution_count": 5,
   "metadata": {
    "collapsed": true
   },
   "outputs": [],
   "source": [
    "conn = pg.connect(database=\"stackexchange\", user=\"utkarsh\", password=\"12u34\", host=\"psql-science.mpi-sws.org\") "
   ]
  },
  {
   "cell_type": "code",
   "execution_count": 8,
   "metadata": {
    "collapsed": false
   },
   "outputs": [],
   "source": [
    "df = pd.read_sql_query(\"select userid as id, rep100, rep200, rep500, rep1000, rep1500 from userreputation\", conn)"
   ]
  },
  {
   "cell_type": "code",
   "execution_count": 12,
   "metadata": {
    "collapsed": false
   },
   "outputs": [
    {
     "data": {
      "text/html": [
       "<div>\n",
       "<table border=\"1\" class=\"dataframe\">\n",
       "  <thead>\n",
       "    <tr style=\"text-align: right;\">\n",
       "      <th></th>\n",
       "      <th>id</th>\n",
       "      <th>rep100</th>\n",
       "      <th>rep200</th>\n",
       "      <th>rep500</th>\n",
       "      <th>rep1000</th>\n",
       "      <th>rep1500</th>\n",
       "    </tr>\n",
       "  </thead>\n",
       "  <tbody>\n",
       "    <tr>\n",
       "      <th>0</th>\n",
       "      <td>1</td>\n",
       "      <td>3.0</td>\n",
       "      <td>2008-08-05</td>\n",
       "      <td>2008-08-13</td>\n",
       "      <td>2008-08-23</td>\n",
       "      <td>2008-09-06</td>\n",
       "    </tr>\n",
       "    <tr>\n",
       "      <th>1</th>\n",
       "      <td>2</td>\n",
       "      <td>22.0</td>\n",
       "      <td>2008-09-24</td>\n",
       "      <td>2009-05-21</td>\n",
       "      <td>2011-09-27</td>\n",
       "      <td>2013-03-31</td>\n",
       "    </tr>\n",
       "    <tr>\n",
       "      <th>2</th>\n",
       "      <td>3</td>\n",
       "      <td>27.0</td>\n",
       "      <td>2008-10-06</td>\n",
       "      <td>2009-01-19</td>\n",
       "      <td>2009-08-03</td>\n",
       "      <td>2010-01-23</td>\n",
       "    </tr>\n",
       "    <tr>\n",
       "      <th>3</th>\n",
       "      <td>2097156</td>\n",
       "      <td>NaN</td>\n",
       "      <td>NaT</td>\n",
       "      <td>NaT</td>\n",
       "      <td>NaT</td>\n",
       "      <td>NaT</td>\n",
       "    </tr>\n",
       "    <tr>\n",
       "      <th>4</th>\n",
       "      <td>2583796</td>\n",
       "      <td>NaN</td>\n",
       "      <td>NaT</td>\n",
       "      <td>NaT</td>\n",
       "      <td>NaT</td>\n",
       "      <td>NaT</td>\n",
       "    </tr>\n",
       "  </tbody>\n",
       "</table>\n",
       "</div>"
      ],
      "text/plain": [
       "        id  rep100     rep200     rep500    rep1000    rep1500\n",
       "0        1     3.0 2008-08-05 2008-08-13 2008-08-23 2008-09-06\n",
       "1        2    22.0 2008-09-24 2009-05-21 2011-09-27 2013-03-31\n",
       "2        3    27.0 2008-10-06 2009-01-19 2009-08-03 2010-01-23\n",
       "3  2097156     NaN        NaT        NaT        NaT        NaT\n",
       "4  2583796     NaN        NaT        NaT        NaT        NaT"
      ]
     },
     "execution_count": 12,
     "metadata": {},
     "output_type": "execute_result"
    }
   ],
   "source": [
    "df.head()"
   ]
  },
  {
   "cell_type": "code",
   "execution_count": 11,
   "metadata": {
    "collapsed": true
   },
   "outputs": [],
   "source": [
    "df[\"rep100\"] = df[\"rep100\"].apply(convert)"
   ]
  },
  {
   "cell_type": "code",
   "execution_count": null,
   "metadata": {
    "collapsed": true
   },
   "outputs": [],
   "source": [
    "df[\"rep200\"] = df[\"rep200\"].apply(convert)\n",
    "df[\"rep500\"] = df[\"rep500\"].apply(convert)\n",
    "df[\"rep1000\"] = df[\"rep1000\"].apply(convert)\n",
    "df[\"rep1500\"] = df[\"rep1500\"].apply(convert)"
   ]
  },
  {
   "cell_type": "code",
   "execution_count": null,
   "metadata": {
    "collapsed": true
   },
   "outputs": [],
   "source": [
    "df.to_csv(\"../../data/user_reputation.tsv\", sep=\"\\t\", index=False, header=True)"
   ]
  },
  {
   "cell_type": "code",
   "execution_count": null,
   "metadata": {
    "collapsed": true
   },
   "outputs": [],
   "source": []
  }
 ],
 "metadata": {
  "kernelspec": {
   "display_name": "Python [Root]",
   "language": "python",
   "name": "Python [Root]"
  },
  "language_info": {
   "codemirror_mode": {
    "name": "ipython",
    "version": 3
   },
   "file_extension": ".py",
   "mimetype": "text/x-python",
   "name": "python",
   "nbconvert_exporter": "python",
   "pygments_lexer": "ipython3",
   "version": "3.5.2"
  }
 },
 "nbformat": 4,
 "nbformat_minor": 0
}
