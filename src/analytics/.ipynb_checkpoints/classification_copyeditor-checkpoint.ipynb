{
 "cells": [
  {
   "cell_type": "code",
   "execution_count": 1,
   "metadata": {
    "collapsed": false
   },
   "outputs": [
    {
     "ename": "ImportError",
     "evalue": "cannot import name 'visualization'",
     "output_type": "error",
     "traceback": [
      "\u001b[1;31m---------------------------------------------------------------------------\u001b[0m",
      "\u001b[1;31mImportError\u001b[0m                               Traceback (most recent call last)",
      "\u001b[1;32m<ipython-input-1-535fe46ed576>\u001b[0m in \u001b[0;36m<module>\u001b[1;34m()\u001b[0m\n\u001b[0;32m      9\u001b[0m \u001b[1;32mfrom\u001b[0m \u001b[0manalytics\u001b[0m\u001b[1;33m.\u001b[0m\u001b[0mclassification_aux\u001b[0m \u001b[1;32mimport\u001b[0m \u001b[0mem2_classification_cached\u001b[0m\u001b[1;33m\u001b[0m\u001b[0m\n\u001b[0;32m     10\u001b[0m \u001b[1;32mfrom\u001b[0m \u001b[0mclassification\u001b[0m \u001b[1;32mimport\u001b[0m \u001b[0mtwopoisson_em\u001b[0m\u001b[1;33m\u001b[0m\u001b[0m\n\u001b[1;32m---> 11\u001b[1;33m \u001b[1;32mfrom\u001b[0m \u001b[0mclassification\u001b[0m \u001b[1;32mimport\u001b[0m \u001b[0mvisualization\u001b[0m\u001b[1;33m\u001b[0m\u001b[0m\n\u001b[0m\u001b[0;32m     12\u001b[0m \u001b[1;33m\u001b[0m\u001b[0m\n\u001b[0;32m     13\u001b[0m \u001b[1;32mfrom\u001b[0m \u001b[0manalytics\u001b[0m\u001b[1;33m.\u001b[0m\u001b[0mclassification_aux\u001b[0m \u001b[1;32mimport\u001b[0m \u001b[0mextract_train_test\u001b[0m\u001b[1;33m,\u001b[0m \u001b[0mprint_results\u001b[0m\u001b[1;33m,\u001b[0m \u001b[0mcompare_results\u001b[0m\u001b[1;33m\u001b[0m\u001b[0m\n",
      "\u001b[1;31mImportError\u001b[0m: cannot import name 'visualization'"
     ]
    }
   ],
   "source": [
    "import numpy as np\n",
    "import pandas as pd\n",
    "from matplotlib import pyplot\n",
    "import matplotlib\n",
    "\n",
    "import sys\n",
    "sys.path.append(\"../\")\n",
    "\n",
    "from analytics.classification_aux import em2_classification_cached\n",
    "from classification import twopoisson_em\n",
    "from analytics import visualization\n",
    "\n",
    "from analytics.classification_aux import extract_train_test, print_results, compare_results\n",
    "from aux.events_io import load_events, store_events\n",
    "from classification.nhst_testing import *\n",
    "\n",
    "##########################################\n",
    "\n",
    "np.random.seed(123)\n",
    "\n",
    "import logging\n",
    "from imp import reload\n",
    "reload(logging)\n",
    "fmt = '[%(process)4d][%(asctime)s][%(levelname)-5s][%(module)s:%(lineno)d/%(funcName)s] %(message)s'\n",
    "logging.basicConfig(format=fmt, level=logging.INFO, datefmt='%I:%M:%S')\n",
    "\n",
    "%matplotlib inline"
   ]
  },
  {
   "cell_type": "markdown",
   "metadata": {},
   "source": [
    "# COPY EDITOR DATA PREPARATION"
   ]
  },
  {
   "cell_type": "code",
   "execution_count": null,
   "metadata": {
    "collapsed": false
   },
   "outputs": [],
   "source": [
    "user2features = pd.read_csv(\"../../data/badges/covariates.tsv\", sep=\"\\t\")\n",
    "samples = pd.read_csv(\"../../data/badges_copyeditor.tsv\", sep=\"\\t\")"
   ]
  },
  {
   "cell_type": "code",
   "execution_count": null,
   "metadata": {
    "collapsed": false
   },
   "outputs": [],
   "source": [
    "NUM_TEST_USERS = 0 #!\n",
    "city_features = [\"c0\", \"c1\", \"c2\", \"c3\", \"c4\"]\n",
    "state_features = [\"s0\", \"s1\", \"s2\", \"s3\", \"s4\"]\n",
    "user_features = [\"age\", \"upvotes\",  \"views\", \"downvotes\", \"comments\"]  #, \"reputation\"\n",
    "selected_features = user_features+city_features+state_features\n",
    "features, train_ids, test_ids = extract_train_test(samples, user2features[[\"id\"]+selected_features], \n",
    "                                                   max_train=10000, max_test=NUM_TEST_USERS)"
   ]
  },
  {
   "cell_type": "markdown",
   "metadata": {},
   "source": [
    "# Two-phase classification (EM2)"
   ]
  },
  {
   "cell_type": "code",
   "execution_count": null,
   "metadata": {
    "collapsed": false
   },
   "outputs": [],
   "source": [
    "nhst_preds_file = \"../../data/badges_copyeditor_nhst_preds.tsv\" #intermediate results cache "
   ]
  },
  {
   "cell_type": "code",
   "execution_count": null,
   "metadata": {
    "collapsed": false
   },
   "outputs": [],
   "source": [
    "train_preds, test_preds, em2_results = em2_classification_cached(features, samples, train_ids, test_ids, \n",
    "                                                                   sigma=1, kappa=1, #?????\n",
    "                                                                   nhst_preds_file=nhst_preds_file)"
   ]
  },
  {
   "cell_type": "markdown",
   "metadata": {},
   "source": [
    "### Results visualization"
   ]
  },
  {
   "cell_type": "code",
   "execution_count": null,
   "metadata": {
    "collapsed": false
   },
   "outputs": [],
   "source": [
    "print(\"available features:\", list(enumerate(features.columns[1:])))"
   ]
  },
  {
   "cell_type": "code",
   "execution_count": null,
   "metadata": {
    "collapsed": false
   },
   "outputs": [],
   "source": [
    "#features to be plotted\n",
    "features_no, features_names = zip(*[(0, 'age'), (2, 'views')]) \n",
    "#features_no, features_names = zip(*[(10, 's0'), (9, 'c4')]) \n",
    "#features_no, features_names = zip(*[(0, 'age'), (10, 's0')]) \n",
    "features_no, features_names = list(features_no), list(features_names)"
   ]
  },
  {
   "cell_type": "code",
   "execution_count": null,
   "metadata": {
    "collapsed": false
   },
   "outputs": [],
   "source": [
    "#PLOT NHST RESULTS\n",
    "nhst_train_preds = em2_results[\"nhst_preds\"]\n",
    "\n",
    "visualization.pyplot_reset()\n",
    "\n",
    "visualization.plot_groups(features, features_names, \n",
    "                          train_ids, nhst_train_preds, \n",
    "                          train_marker = \"+\", test_marker=\"x\",\n",
    "                          #ylabel=\"log(%s)\" % features_names[1], \n",
    "                          plot_legend=False, s=10, plot_densities=True)\n",
    "\n",
    "pyplot.gcf().subplots_adjust(bottom=0.15, left=0.15)# right=0.85, left=0.15)\n",
    "pyplot.xlim((15,55)); pyplot.ylim((4,12)); pyplot.ylabel(\"log(%s)\" % features_names[1])\n",
    "#pyplot.xlim((15,55)); pyplot.ylim((1.75,3.75)); pyplot.ylabel(\"similarity to US\")\n",
    "\n",
    "visualization.pyplot_savefig(\"../../data/badges_copyeditor_nhst_preds0.pdf\")\n",
    "\n",
    "print_results(nhst_train_preds)"
   ]
  },
  {
   "cell_type": "code",
   "execution_count": null,
   "metadata": {
    "collapsed": false
   },
   "outputs": [],
   "source": [
    "#PLOT FINAL RESULTS\n",
    "\n",
    "visualization.pyplot_reset()\n",
    "\n",
    "visualization.plot_groups(features, features_names, \n",
    "                          train_ids, train_preds, \n",
    "                          test_ids, test_preds,\n",
    "                          train_marker = \"+\", test_marker=\"x\",\n",
    "                          #ylabel=\"log(%s)\" % features_names[1], \n",
    "                          plot_legend=False, s=10, plot_densities=False)\n",
    "visualization.plot_bivariate(em2_results[\"mu\"][0,features_no], \n",
    "                             em2_results[\"ss\"][0][np.ix_(features_no,features_no)], \n",
    "                             cmap=\"Blues\")#, limits=(1,4,10,60))\n",
    "visualization.plot_bivariate(em2_results[\"mu\"][1,features_no], \n",
    "                             em2_results[\"ss\"][1][np.ix_(features_no,features_no)], \n",
    "                             cmap=\"Reds\")#, limits=(1,4,10,60))\n",
    "#pyplot.xlim((1,4))\n",
    "\n",
    "pyplot.gcf().subplots_adjust(bottom=0.15, left=0.15)# right=0.85, left=0.15)\n",
    "pyplot.xlim((15,55)); pyplot.ylim((4,12)); pyplot.ylabel(\"log(%s)\" % features_names[1])\n",
    "#pyplot.xlim((15,55)); pyplot.ylim((1.75,3.75)); pyplot.ylabel(\"similarity to US\")\n",
    "\n",
    "visualization.pyplot_savefig(\"../../data/badges_copyeditor_2sb_preds0.pdf\")\n",
    "\n",
    "print_results(train_preds, test_preds)"
   ]
  },
  {
   "cell_type": "code",
   "execution_count": null,
   "metadata": {
    "collapsed": false
   },
   "outputs": [],
   "source": [
    "compare_results(nhst_train_preds, train_preds)"
   ]
  },
  {
   "cell_type": "code",
   "execution_count": null,
   "metadata": {
    "collapsed": false
   },
   "outputs": [],
   "source": [
    "#PLOT INITIAL ASSIGNMENTS \n",
    "init_train_preds, init_test_preds = em2_results[\"init_train\"], em2_results[\"init_test\"]\n",
    "\n",
    "visualization.pyplot_reset()\n",
    "visualization.plot_groups(features, features_names, \n",
    "                          train_ids, init_train_preds, \n",
    "                          test_ids, init_test_preds, \n",
    "                          train_marker = \"+\", test_marker=\"x\",\n",
    "                          ylabel=\"log(%s)\" % features_names[1], \n",
    "                          plot_legend=True, s=10, plot_densities=True)"
   ]
  },
  {
   "cell_type": "markdown",
   "metadata": {},
   "source": [
    "## Features ranking"
   ]
  },
  {
   "cell_type": "code",
   "execution_count": null,
   "metadata": {
    "collapsed": true
   },
   "outputs": [],
   "source": [
    "sfeature2states = {\n",
    "\"s0\" : ['Lehi_UT', 'MISSION_VIEJO_CA', 'HOWELL_MI', 'EASTERN_OREGON', 'Mclean_VA', 'THOUSAND_OAKS_CA', 'NANTES_FRANCE', 'VENICE_FL', 'SOUTH_GEORGIA', 'NORTHWEST_FLORIDA'],\n",
    "\"s1\" : ['India', 'NewDelhi', 'ndia', 'Rajathan', 'Inida', 'AHMEDABAD_INDIA', 'Sri_Lank', 'Ha_Noi_Viet_Nam', 'INdia', 'AHMADABAD'],\n",
    "\"s2\" : ['Germany', 'Germnay', 'CzechRepublic', 'Belgium', 'Spain', 'Swizerland', 'France', 'Bussum', 'Weesp', 'Schijndel'],\n",
    "\"s3\" : ['Russia', 'Romania', 'Poland', 'Ukraine', 'Czech_republic', 'CzechRepublic', 'Chişinău', 'Bulgaria', 'Lithuania', 'Hungary'],\n",
    "\"s4\" : ['United_States', 'Curaçao_Netherlands_Antilles', 'Mclean_VA', 'NORTH_YORKSHIRE', 'Luleå_Sweden', 'OTTAWA_ONTARIO_CANADA', 'ANN_ARBOR_MICH', 'United_Kindom', 'Massachsetts', \"XI'AN_CHINA\"]\n",
    "}\n",
    "\n",
    "cfeature2cities = {\n",
    "\"c0\" : ['Hyderabad', 'Bangalore', 'Chennai', 'Kolkata', 'Pune', 'Ahmedabad', 'Mumbai', 'Jaipur', 'Delhi', 'Lucknow'],\n",
    "\"c1\" : ['Eching', 'Toruń', 'Zaltbommel', 'Zvenigorod', 'Deinze', 'Trenčín', 'Piatra_Neamt', 'Hradec_Králové', 'Zielona_Góra', 'Białystok'],\n",
    "\"c2\" : ['Bento_Goncalves', 'Thiais', 'Torrejón_de_Ardoz', 'Eching', 'Melboune', 'Eaubonne', 'Phnom_Pehn', 'Bussum', 'London', 'Manises'],\n",
    "\"c3\" : ['Shelby_Twp', 'CLINTON_TWP', 'HIDDEN_VALLEY_LAKE', 'PIKE_CREEK', 'FAIRVIEW_PARK', 'YALE_UNIVERSITY', 'MOON_TWP', 'RUTGERS_UNIVERSITY', 'ROUND_HILL', 'PUEBLO_WEST'],\n",
    "\"c4\" : ['Philadlephia', 'Chicago', 'Los_Angeles', 'San_Francisco', 'Seatte', 'New_York', 'Wernau', 'San_Francicso', 'Seattle', 'LAKE_HUGHES']\n",
    "}\n",
    "\n",
    "f2f = {}\n",
    "for sf, s in sfeature2states.items():\n",
    "    f2f[sf] = \"-\".join(s[:3])\n",
    "for cf, c in cfeature2cities.items():\n",
    "    f2f[cf] = \"-\".join(c[:3])"
   ]
  },
  {
   "cell_type": "code",
   "execution_count": null,
   "metadata": {
    "collapsed": false
   },
   "outputs": [],
   "source": [
    "KLs = []\n",
    "for i in range(em2_results[\"ss\"].shape[1]):\n",
    "    m1 = em2_results[\"mu\"][0,i]\n",
    "    m2 = em2_results[\"mu\"][1,i]    \n",
    "    s1 = em2_results[\"ss\"][0,i,i]\n",
    "    s2 = em2_results[\"ss\"][1,i,i]\n",
    "    KL = np.log(s2/s1) + (s1**2+(m1-m2)**2)/(2*s2**2) - 1/2\n",
    "    KLs.append((KL, m1>m2, features.columns[i+1]))\n",
    "KLs = sorted(KLs)\n",
    "    \n",
    "for KL, positive, feature in KLs:\n",
    "    #if feature.startswith(\"s\") or  feature.startswith(\"c\"): positive=not positive\n",
    "    positive = \"attracted\" if positive else \"don't care\"\n",
    "    print(\"%7s %s %s\"  % ((\"%.2f\" % KL), \"%10s\" % positive, f2f.get(feature, feature)))"
   ]
  },
  {
   "cell_type": "markdown",
   "metadata": {
    "collapsed": false
   },
   "source": [
    "# Poisson processes clustering (twopoisson_em)"
   ]
  },
  {
   "cell_type": "code",
   "execution_count": null,
   "metadata": {
    "collapsed": false
   },
   "outputs": [],
   "source": [
    "train_preds2, test_preds2 = twopoisson_em.twopoisson_em_classification(features, samples, \n",
    "                                                                       train_ids, test_ids, \n",
    "                                                                       badge_name=\"switch_time\")"
   ]
  },
  {
   "cell_type": "code",
   "execution_count": null,
   "metadata": {
    "collapsed": false
   },
   "outputs": [],
   "source": [
    "print_results(train_preds2, test_preds2)\n",
    "compare_results(train_preds2, train_preds)\n",
    "compare_results(test_preds2, test_preds)"
   ]
  },
  {
   "cell_type": "code",
   "execution_count": null,
   "metadata": {
    "collapsed": false
   },
   "outputs": [],
   "source": [
    "visualization.pyplot_reset()\n",
    "matplotlib.rcParams['pdf.fonttype'] = 42\n",
    "matplotlib.rcParams['ps.fonttype'] = 42 \n",
    "matplotlib.rcParams['text.usetex'] = True \n",
    "visualization.plot_groups(features, features_names, \n",
    "                          train_ids, train_preds2,\n",
    "                          test_ids, test_preds2,\n",
    "                          train_marker = \"+\", test_marker=\"x\",\n",
    "                          plot_legend=False, s=10, plot_densities=True)\n",
    "\n",
    "pyplot.gcf().subplots_adjust(bottom=0.15, left=0.15)# right=0.85, left=0.15)\n",
    "pyplot.xlim((15,55)); pyplot.ylim((4,12)); pyplot.ylabel(\"log(%s)\" % features_names[1])\n",
    "#pyplot.xlim((15,55)); pyplot.ylim((1.75,3.75)); pyplot.ylabel(\"similarity to US\")\n",
    "matplotlib.rcParams['pdf.fonttype'] = 42\n",
    "matplotlib.rcParams['ps.fonttype'] = 42 \n",
    "matplotlib.rcParams['text.usetex'] = True \n",
    "pyplot.savefig(\"../../data/badges_copyeditor_2p_preds0.pdf\")"
   ]
  }
 ],
 "metadata": {
  "anaconda-cloud": {},
  "kernelspec": {
   "display_name": "Python [Root]",
   "language": "python",
   "name": "Python [Root]"
  },
  "language_info": {
   "codemirror_mode": {
    "name": "ipython",
    "version": 3
   },
   "file_extension": ".py",
   "mimetype": "text/x-python",
   "name": "python",
   "nbconvert_exporter": "python",
   "pygments_lexer": "ipython3",
   "version": "3.5.2"
  }
 },
 "nbformat": 4,
 "nbformat_minor": 0
}
