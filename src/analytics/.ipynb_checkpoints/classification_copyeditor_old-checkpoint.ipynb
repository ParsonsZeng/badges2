{
 "cells": [
  {
   "cell_type": "code",
   "execution_count": 1,
   "metadata": {
    "collapsed": true
   },
   "outputs": [],
   "source": [
    "import os\n",
    "import numpy as np\n",
    "from matplotlib import pyplot\n",
    "import seaborn as sns; sns.set()\n",
    "from scipy.stats import chi2\n",
    "import pandas as pd\n",
    "\n",
    "import sys\n",
    "sys.path.append(\"../\")\n",
    "\n",
    "from aux.events_io import load_events, store_events\n",
    "from testing.user_testing import *\n",
    "from analytics.plots_users import *\n",
    "\n",
    "INF = float(\"inf\")\n",
    "EPS = 10**(-18)\n",
    "\n",
    "%matplotlib inline\n"
   ]
  },
  {
   "cell_type": "markdown",
   "metadata": {},
   "source": [
    "# EDITS DATA PREPARATION"
   ]
  },
  {
   "cell_type": "markdown",
   "metadata": {},
   "source": [
    "### Features Selection"
   ]
  },
  {
   "cell_type": "code",
   "execution_count": 2,
   "metadata": {
    "collapsed": true
   },
   "outputs": [],
   "source": [
    "user2features = pd.read_csv(\"../../data/badges/covariates.tsv\", sep=\"\\t\")\n",
    "user2features = user2features[user2features[\"age\"]<70]\n"
   ]
  },
  {
   "cell_type": "code",
   "execution_count": 3,
   "metadata": {
    "collapsed": true
   },
   "outputs": [],
   "source": [
    "city_features = [\"c0\", \"c1\", \"c2\", \"c3\", \"c4\"]\n",
    "state_features = [\"s0\", \"s1\", \"s2\", \"s3\", \"s4\"]\n",
    "user_features = [\"age\", \"upvotes\"]# \"downvotes\", \"comments\"]  #, \"reputation\"\n",
    "user2features = user2features[[\"id\"]]#+user_features+city_features] #city_features"
   ]
  },
  {
   "cell_type": "markdown",
   "metadata": {},
   "source": [
    "### Temporal traces"
   ]
  },
  {
   "cell_type": "code",
   "execution_count": 4,
   "metadata": {
    "collapsed": true
   },
   "outputs": [],
   "source": [
    "src = \"../../data/badges/edits/edits.tsv\"\n",
    "EDITOR=46.371527777777786\n",
    "STRUNK_AND_WHITE=46.371527777777786\n",
    "COPY_EDITOR=708.4131944444446\n",
    "badges_intro = [EDITOR, STRUNK_AND_WHITE, COPY_EDITOR]\n",
    "badges = [\"editor\", \"strunk_&_white\", \"copy_editor\"]\n",
    "df = pd.read_csv(src, sep=\"\\t\")"
   ]
  },
  {
   "cell_type": "code",
   "execution_count": 5,
   "metadata": {
    "collapsed": true
   },
   "outputs": [],
   "source": [
    "user2activeness = pd.read_csv(\"../../data/badges/activeness_min_max.tsv\", sep=\"\\t\")"
   ]
  },
  {
   "cell_type": "code",
   "execution_count": 6,
   "metadata": {
    "collapsed": true
   },
   "outputs": [],
   "source": [
    "#Update user's max time\n",
    "user2max = dict(zip(user2activeness[\"userid\"], user2activeness[\"max\"]))\n",
    "MAXT = max(df[\"time\"])\n",
    "max_times = [min(user2max.get(uid, INF), MAXT) for uid in df[df[\"type\"]==\"max_time\"][\"id\"]]\n",
    "df.loc[df[\"type\"]==\"max_time\", \"time\"] = max_times\n",
    "df = df[df[\"id\"].isin(user2features[\"id\"])]"
   ]
  },
  {
   "cell_type": "code",
   "execution_count": 7,
   "metadata": {
    "collapsed": true
   },
   "outputs": [],
   "source": [
    "#Convert format\n",
    "id2events = load_events(df)"
   ]
  },
  {
   "cell_type": "code",
   "execution_count": 8,
   "metadata": {
    "collapsed": false
   },
   "outputs": [],
   "source": [
    "#Update user's badge awarding noticing\n",
    "for events in id2events.values():\n",
    "    if \"copy_editor\" in events and events[\"copy_editor\"][0]>COPY_EDITOR+2:\n",
    "        events[\"switch_time\"] = [np.ceil(events[\"copy_editor\"][0])]"
   ]
  },
  {
   "cell_type": "code",
   "execution_count": 9,
   "metadata": {
    "collapsed": true
   },
   "outputs": [],
   "source": [
    "#Update user's min\n",
    "for events in id2events.values():\n",
    "    events[\"start_time\"] = [max(events[\"start_time\"][0], COPY_EDITOR)]\n",
    "        \n",
    "    if \"copy_editor\" in events:                \n",
    "        #mid_badges = (events[\"strunk_&_white\"][0]+events[\"copy_editor\"][0])*0.5\n",
    "        mid_badges = np.ceil(events[\"strunk_&_white\"][0]) + 1\n",
    "        events[\"start_time\"] = [max(events[\"start_time\"][0], mid_badges)]    "
   ]
  },
  {
   "cell_type": "code",
   "execution_count": 10,
   "metadata": {
    "collapsed": true
   },
   "outputs": [],
   "source": [
    "#Update user's action times\n",
    "for events in id2events.values():\n",
    "    s = events[\"start_time\"][0]\n",
    "    e = events[\"max_time\"][0]\n",
    "    events[\"action\"] = [t for t in events.get(\"action\",[]) if t>s and t<e]"
   ]
  },
  {
   "cell_type": "code",
   "execution_count": 11,
   "metadata": {
    "collapsed": true
   },
   "outputs": [],
   "source": [
    "samples = store_events(id2events).sort_values([\"id\", \"time\"])"
   ]
  },
  {
   "cell_type": "markdown",
   "metadata": {},
   "source": [
    "# COPY EDITOR DATA CLASSIFICATION"
   ]
  },
  {
   "cell_type": "code",
   "execution_count": 12,
   "metadata": {
    "collapsed": true
   },
   "outputs": [],
   "source": [
    "busers = [i for i, e in id2events.items() if \"switch_time\" in e]\n",
    "bfeatures = user2features[user2features.id.isin(busers)]#[\"age\"]\n",
    "bfeatures = bfeatures[~bfeatures.isnull().any(axis=1)]\n",
    "busers = list(set(bfeatures.id))"
   ]
  },
  {
   "cell_type": "code",
   "execution_count": null,
   "metadata": {
    "collapsed": true
   },
   "outputs": [],
   "source": [
    "nusers = [i for i, e in id2events.items() if \"research_assistant\" not in e]\n",
    "nfeatures = user2features[user2features.id.isin(nusers)]\n",
    "nfeatures = nfeatures[~nfeatures.isnull().any(axis=1)]\n",
    "nusers = list(set(nfeatures.id))"
   ]
  },
  {
   "cell_type": "code",
   "execution_count": null,
   "metadata": {
    "collapsed": false
   },
   "outputs": [],
   "source": [
    "#pyplot.hist(bfeatures.age, bins=np.array(range(50))*2, label=\"users with badge\", fill=None, normed=True, histtype=\"step\", lw=3)\n",
    "#pyplot.hist(nfeatures.age, bins=np.array(range(50))*2, label=\"users without badge\", normed=True, histtype=\"step\", lw=3)\n",
    "#pyplot.legend()\n",
    "#pyplot.xlabel(\"age\")\n",
    "#pyplot.xlim((10,60))"
   ]
  },
  {
   "cell_type": "markdown",
   "metadata": {},
   "source": [
    "### Data transofrmations and preparation"
   ]
  },
  {
   "cell_type": "code",
   "execution_count": 14,
   "metadata": {
    "collapsed": false
   },
   "outputs": [
    {
     "ename": "NameError",
     "evalue": "name 'nusers' is not defined",
     "output_type": "error",
     "traceback": [
      "\u001b[1;31m---------------------------------------------------------------------------\u001b[0m",
      "\u001b[1;31mNameError\u001b[0m                                 Traceback (most recent call last)",
      "\u001b[1;32m<ipython-input-14-1b8cce185204>\u001b[0m in \u001b[0;36m<module>\u001b[1;34m()\u001b[0m\n\u001b[1;32m----> 1\u001b[1;33m \u001b[0mnp\u001b[0m\u001b[1;33m.\u001b[0m\u001b[0mrandom\u001b[0m\u001b[1;33m.\u001b[0m\u001b[0mshuffle\u001b[0m\u001b[1;33m(\u001b[0m\u001b[0mnusers\u001b[0m\u001b[1;33m)\u001b[0m\u001b[1;33m\u001b[0m\u001b[0m\n\u001b[0m\u001b[0;32m      2\u001b[0m \u001b[0mtrain_ids\u001b[0m\u001b[1;33m,\u001b[0m \u001b[0mtest_ids\u001b[0m \u001b[1;33m=\u001b[0m \u001b[0mbusers\u001b[0m\u001b[1;33m,\u001b[0m \u001b[0mnusers\u001b[0m\u001b[1;33m[\u001b[0m\u001b[1;33m:\u001b[0m\u001b[1;36m50\u001b[0m\u001b[1;33m]\u001b[0m\u001b[1;33m\u001b[0m\u001b[0m\n\u001b[0;32m      3\u001b[0m \u001b[0mfeatures\u001b[0m \u001b[1;33m=\u001b[0m \u001b[0mnfeatures\u001b[0m\u001b[1;33m.\u001b[0m\u001b[0mappend\u001b[0m\u001b[1;33m(\u001b[0m\u001b[0mbfeatures\u001b[0m\u001b[1;33m,\u001b[0m \u001b[0mignore_index\u001b[0m\u001b[1;33m=\u001b[0m\u001b[1;32mTrue\u001b[0m\u001b[1;33m)\u001b[0m\u001b[1;33m\u001b[0m\u001b[0m\n\u001b[0;32m      4\u001b[0m \u001b[0mprint\u001b[0m\u001b[1;33m(\u001b[0m\u001b[1;34m\"features=\"\u001b[0m\u001b[1;33m,\u001b[0m\u001b[0mlist\u001b[0m\u001b[1;33m(\u001b[0m\u001b[0menumerate\u001b[0m\u001b[1;33m(\u001b[0m\u001b[0mfeatures\u001b[0m\u001b[1;33m.\u001b[0m\u001b[0mcolumns\u001b[0m\u001b[1;33m[\u001b[0m\u001b[1;36m1\u001b[0m\u001b[1;33m:\u001b[0m\u001b[1;33m]\u001b[0m\u001b[1;33m)\u001b[0m\u001b[1;33m)\u001b[0m\u001b[1;33m)\u001b[0m\u001b[1;33m\u001b[0m\u001b[0m\n",
      "\u001b[1;31mNameError\u001b[0m: name 'nusers' is not defined"
     ]
    }
   ],
   "source": [
    "np.random.shuffle(nusers)\n",
    "train_ids, test_ids = busers, nusers[:50]\n",
    "features = nfeatures.append(bfeatures, ignore_index=True)\n",
    "print(\"features=\",list(enumerate(features.columns[1:])))\n"
   ]
  },
  {
   "cell_type": "code",
   "execution_count": 15,
   "metadata": {
    "collapsed": true
   },
   "outputs": [],
   "source": [
    "\n",
    "#plotted features\n",
    "features_no, features_names = [0, 2], [\"age\", \"s0\"] #MUST AGREE!\n",
    "#features_no, features_names = [1, 2], [\"upvotes\", \"downvotes\"] #MUST AGREE!\n",
    "#features_no, features_names = [10, 0], [\"s2\", \"age\"] #MUST AGREE!"
   ]
  },
  {
   "cell_type": "markdown",
   "metadata": {},
   "source": [
    "# EM2"
   ]
  },
  {
   "cell_type": "code",
   "execution_count": 20,
   "metadata": {
    "collapsed": false
   },
   "outputs": [
    {
     "data": {
      "text/plain": [
       "<module 'classification.visualization' from '../classification/visualization.py'>"
      ]
     },
     "execution_count": 20,
     "metadata": {},
     "output_type": "execute_result"
    }
   ],
   "source": [
    "import sys\n",
    "sys.path.append(\"../\")\n",
    "\n",
    "from aux import parsing, sharing\n",
    "\n",
    "from testing import user_testing\n",
    "from clustering import em2\n",
    "from classification import nhst_with_em2, twopoisson_em\n",
    "from classification import evaluation\n",
    "from classification import visualization\n",
    "\n",
    "import logging\n",
    "from imp import reload\n",
    "reload(logging)\n",
    "fmt = '[%(process)4d][%(asctime)s][%(levelname)-5s][%(module)s:%(lineno)d/%(funcName)s] %(message)s'\n",
    "logging.basicConfig(format=fmt, level=logging.DEBUG, datefmt='%I:%M:%S')\n",
    "\n",
    "reload(em2)\n",
    "reload(twopoisson_em)\n",
    "reload(nhst_with_em2)\n",
    "reload(visualization)\n"
   ]
  },
  {
   "cell_type": "code",
   "execution_count": null,
   "metadata": {
    "collapsed": true
   },
   "outputs": [],
   "source": [
    "nhst_preds_file = \"../../data/badges_copyeditor_nhst_preds.tsv\""
   ]
  },
  {
   "cell_type": "code",
   "execution_count": null,
   "metadata": {
    "collapsed": false
   },
   "outputs": [],
   "source": [
    "#nhst classification\n",
    "if os.path.isfile(nhst_preds_file):\n",
    "    id2nhst = pd.read_csv(nhst_preds_file, sep=\"\\t\")\n",
    "else:\n",
    "    train_preds, _ = nhst_with_em2.nhst_classification(user2features, samples, train_ids, [], \n",
    "                                         #test=user_testing.wilks_pvalue,                                                \n",
    "                                         test=user_testing.bootstrap_pvalue, \n",
    "                                         badge_name=\"switch_time\", \n",
    "                                         pvalue_threshold=0.05, cpus=1)\n",
    "    id2nhst = pd.DataFrame({\"id\": train_ids, \"nhst_pred\": train_preds})\n",
    "    id2nhst = id2nhst.to_csv(nhst_preds_file, sep=\"\\t\", index=False, header=True)\n",
    "id2nhst = dict(zip(id2nhst[\"id\"], id2nhst[\"nhst_pred\"]))\n",
    "nhst_preds = np.array([id2nhst[i] for i in train_ids])\n",
    "\n",
    "#clustering\n",
    "train_preds, test_preds = nhst_with_em2.two_step_classification(features, samples, \n",
    "                                                                train_ids, test_ids,\n",
    "                                                                sigma=1, kappa=1,\n",
    "                                                                train_preds=nhst_preds)\n",
    "em2_results = nhst_with_em2.two_step_classification.intermediate_results\n",
    "\n",
    "margin = 0\n",
    "print(\"train_preds0=\", sum(train_preds<0.5-margin))\n",
    "print(\"train_preds1=\",sum(train_preds>0.5+margin))\n",
    "print(\"test_preds=0\",sum(test_preds<0.5-margin)/(len(test_preds)+0.000001))\n",
    "print(\"test_preds=1\",sum(test_preds>0.5+margin)/(len(test_preds)+0.000001))"
   ]
  },
  {
   "cell_type": "code",
   "execution_count": null,
   "metadata": {
    "collapsed": false
   },
   "outputs": [],
   "source": [
    "#PLOT NHST RESULTS\n",
    "nhst_train_preds = em2_results[\"nhst_preds\"]\n",
    "\n",
    "visualization.pyplot_reset()\n",
    "visualization.plot_groups(features, features_names, \n",
    "                          train_ids, nhst_train_preds, \n",
    "                          train_marker = \"+\", test_marker=\"x\",\n",
    "                          #ylabel=\"log(%s)\" % features_names[1], \n",
    "                          plot_legend=False, s=10, plot_densities=True)"
   ]
  },
  {
   "cell_type": "code",
   "execution_count": null,
   "metadata": {
    "collapsed": false
   },
   "outputs": [],
   "source": [
    "#FINAL RESULTS\n",
    "\n",
    "visualization.pyplot_reset()\n",
    "visualization.plot_groups(features, features_names, \n",
    "                          train_ids, train_preds, \n",
    "                          test_ids, test_preds,\n",
    "                          train_marker = \"+\", test_marker=\"x\",\n",
    "                          #ylabel=\"log(%s)\" % features_names[1], \n",
    "                          plot_legend=True, s=10, plot_densities=False)\n",
    "visualization.plot_bivariate(em2_results[\"mu\"][0,features_no], em2_results[\"ss\"][0][np.ix_(features_no,features_no)], cmap=\"Blues\")\n",
    "visualization.plot_bivariate(em2_results[\"mu\"][1,features_no], em2_results[\"ss\"][1][np.ix_(features_no,features_no)], cmap=\"Reds\")\n",
    "\n",
    "\n",
    "\n",
    "margin = 0.0\n",
    "print(\"train_preds0=\", sum(train_preds<0.5-margin))\n",
    "print(\"train_preds1=\",sum(train_preds>0.5+margin))\n",
    "print(\"test_preds=0\",sum(test_preds<0.5-margin)/(len(test_preds)+0.000001))\n",
    "print(\"test_preds=1\",sum(test_preds>0.5+margin)/(len(test_preds)+0.000001))\n"
   ]
  },
  {
   "cell_type": "code",
   "execution_count": null,
   "metadata": {
    "collapsed": false
   },
   "outputs": [],
   "source": [
    "from scipy.stats.stats import pearsonr\n",
    "print(pearsonr(nhst_train_preds, train_preds))\n",
    "\n",
    "threshold = 0.5\n",
    "true  = np.asarray((np.asarray(nhst_train_preds)>threshold), dtype=int)\n",
    "preds = np.asarray((np.asarray(train_preds)>threshold), dtype=int)\n",
    "TP = sum((true == 1) & (preds == 1))\n",
    "FP = sum((true == 0) & (preds == 1))\n",
    "TN = sum((true == 0) & (preds == 0))\n",
    "FN = sum((true == 1) & (preds == 0))\n",
    "print(TP, TN, FP, FN)"
   ]
  },
  {
   "cell_type": "markdown",
   "metadata": {
    "collapsed": true
   },
   "source": [
    "# Two-Poisson EM"
   ]
  },
  {
   "cell_type": "code",
   "execution_count": null,
   "metadata": {
    "collapsed": false
   },
   "outputs": [],
   "source": [
    "train_preds2, test_preds2 = twopoisson_em.twopoisson_em_classification(features, samples, train_ids, test_ids, badge_name=\"switch_time\")"
   ]
  },
  {
   "cell_type": "code",
   "execution_count": null,
   "metadata": {
    "collapsed": false
   },
   "outputs": [],
   "source": [
    "\n",
    "margin = 0.0\n",
    "print(\"train_preds0=\", sum(train_preds2<0.5-margin))\n",
    "print(\"train_preds1=\",sum(train_preds2>0.5+margin))\n",
    "print(\"test_preds=0\",sum(test_preds2<0.5-margin)/(len(test_preds)+0.000001))\n",
    "print(\"test_preds=1\",sum(test_preds2>0.5+margin)/(len(test_preds)+0.000001))\n"
   ]
  },
  {
   "cell_type": "code",
   "execution_count": null,
   "metadata": {
    "collapsed": false
   },
   "outputs": [],
   "source": [
    "threshold = 0.5\n",
    "true  = np.asarray((np.asarray(train_preds)>threshold), dtype=int)\n",
    "preds = np.asarray((np.asarray(train_preds2)>threshold), dtype=int)\n",
    "TP = sum((true == 1) & (preds == 1))\n",
    "FP = sum((true == 0) & (preds == 1))\n",
    "TN = sum((true == 0) & (preds == 0))\n",
    "FN = sum((true == 1) & (preds == 0))\n",
    "print(TP, TN, FP, FN)"
   ]
  },
  {
   "cell_type": "code",
   "execution_count": null,
   "metadata": {
    "collapsed": true
   },
   "outputs": [],
   "source": []
  }
 ],
 "metadata": {
  "anaconda-cloud": {},
  "kernelspec": {
   "display_name": "Python [Root]",
   "language": "python",
   "name": "Python [Root]"
  },
  "language_info": {
   "codemirror_mode": {
    "name": "ipython",
    "version": 3
   },
   "file_extension": ".py",
   "mimetype": "text/x-python",
   "name": "python",
   "nbconvert_exporter": "python",
   "pygments_lexer": "ipython3",
   "version": "3.5.2"
  }
 },
 "nbformat": 4,
 "nbformat_minor": 0
}
