{
 "cells": [
  {
   "cell_type": "code",
   "execution_count": 1,
   "metadata": {
    "collapsed": true
   },
   "outputs": [],
   "source": [
    "import argparse\n",
    "import psycopg2 as pg\n",
    "import pandas as pd\n",
    "import numpy as np\n",
    "#import sys\n",
    "#sys.path.append(\"../\")\n",
    "#from export.config import ZERO_TIME \n",
    "#from export.time_convert import convert"
   ]
  },
  {
   "cell_type": "code",
   "execution_count": 2,
   "metadata": {
    "collapsed": true
   },
   "outputs": [],
   "source": [
    "conn = pg.connect(database=\"stackexchange\", user=\"utkarsh\", password=\"12u34\", host=\"psql-science.mpi-sws.org\") "
   ]
  },
  {
   "cell_type": "markdown",
   "metadata": {},
   "source": [
    "# GET BASIC STATS"
   ]
  },
  {
   "cell_type": "code",
   "execution_count": 3,
   "metadata": {
    "collapsed": true
   },
   "outputs": [],
   "source": [
    "df = pd.read_sql_query(\"SELECT id, reputation, location, views, upvotes, downvotes, age FROM users\", conn)    "
   ]
  },
  {
   "cell_type": "code",
   "execution_count": 4,
   "metadata": {
    "collapsed": false
   },
   "outputs": [],
   "source": [
    "##df = df.rename(columns={\"id\": \"userid\"})\n",
    "df = df[(df.id!=-1) & (~df.id.isnull())]\n",
    "##df = df[~df.isnull().any(axis=1)]"
   ]
  },
  {
   "cell_type": "code",
   "execution_count": 5,
   "metadata": {
    "collapsed": false
   },
   "outputs": [],
   "source": [
    "df[\"reputation\"] = df[\"reputation\"].apply(lambda v: np.log(1+v))\n",
    "df[\"upvotes\"]    = df[\"upvotes\"].apply(lambda v: np.log(1+v))\n",
    "df[\"downvotes\"]  = df[\"downvotes\"].apply(lambda v: np.log(1+v))"
   ]
  },
  {
   "cell_type": "markdown",
   "metadata": {},
   "source": [
    "# APPEND COMMENTING STATS"
   ]
  },
  {
   "cell_type": "code",
   "execution_count": 6,
   "metadata": {
    "collapsed": false
   },
   "outputs": [],
   "source": [
    "user2comments = pd.read_sql_query(\"SELECT userid as id, count(*) as comments FROM comments GROUP BY userid\", conn)    \n",
    "user2comments[\"comments\"] = user2comments[\"comments\"].apply(lambda v: np.log(1+v))\n",
    "user2comments.set_index(\"id\", inplace=True)"
   ]
  },
  {
   "cell_type": "code",
   "execution_count": 7,
   "metadata": {
    "collapsed": true
   },
   "outputs": [],
   "source": [
    "df = df.join(user2comments, on='id', how=\"outer\")"
   ]
  },
  {
   "cell_type": "markdown",
   "metadata": {},
   "source": [
    "# CALCULATE EMBEDDINGS"
   ]
  },
  {
   "cell_type": "code",
   "execution_count": 8,
   "metadata": {
    "collapsed": true
   },
   "outputs": [],
   "source": [
    "df.to_csv(\"../../data/badges/user_features.tsv\", sep=\"\\t\", index=False, header=True)"
   ]
  },
  {
   "cell_type": "code",
   "execution_count": 9,
   "metadata": {
    "collapsed": true
   },
   "outputs": [],
   "source": [
    "import export_location_embeddings"
   ]
  },
  {
   "cell_type": "code",
   "execution_count": 10,
   "metadata": {
    "collapsed": true
   },
   "outputs": [],
   "source": [
    "user2city = pd.read_csv(\"../../data/badges/user_city_clusters.tsv\", sep=\"\\t\")\n",
    "user2state = pd.read_csv(\"../../data/badges/user_state_clusters.tsv\", sep=\"\\t\")"
   ]
  },
  {
   "cell_type": "markdown",
   "metadata": {},
   "source": [
    "# APPEND EMBEDDING RESULTS"
   ]
  },
  {
   "cell_type": "code",
   "execution_count": 11,
   "metadata": {
    "collapsed": false
   },
   "outputs": [],
   "source": [
    "user2city.set_index(\"id\", inplace=True)\n",
    "df = df.join(user2city, on='id', how=\"outer\")"
   ]
  },
  {
   "cell_type": "code",
   "execution_count": 12,
   "metadata": {
    "collapsed": true
   },
   "outputs": [],
   "source": [
    "user2state.set_index(\"id\", inplace=True)\n",
    "df = df.join(user2state, on='id', how=\"outer\")"
   ]
  },
  {
   "cell_type": "markdown",
   "metadata": {},
   "source": [
    "# SAVE RESULTS"
   ]
  },
  {
   "cell_type": "code",
   "execution_count": 13,
   "metadata": {
    "collapsed": false
   },
   "outputs": [
    {
     "name": "stdout",
     "output_type": "stream",
     "text": [
      "3473096\n",
      "    id  reputation        location     views   upvotes  downvotes   age  \\\n",
      "1  1.0   10.373647  El Cerrito, CA  157016.0  8.074960   7.170120  44.0   \n",
      "2  2.0    7.642044   Corvallis, OR   15485.0  6.369901   4.465908  37.0   \n",
      "3  3.0    9.155039    New York, NY   18241.0  8.570165   4.532599  35.0   \n",
      "4  4.0   10.038980    New York, NY   56033.0  6.624065   4.543295   NaN   \n",
      "5  5.0   10.262385   San Diego, CA    7281.0  6.645091   3.555348  44.0   \n",
      "\n",
      "   comments        c0        c1        c2        c3        c4        s0  \\\n",
      "1  6.139885  4.317315  3.777409  3.628751  3.063081  3.288346  2.037590   \n",
      "2  2.302585  3.934812  3.460207  3.466313  2.837741  3.080148  2.488354   \n",
      "3  5.247024  3.308866  2.578980  2.355418  2.323048  1.882577  2.611924   \n",
      "4  5.010635  3.308866  2.578980  2.355418  2.323048  1.882577  2.611924   \n",
      "5  5.049856  3.583074  3.197515  3.027593  2.536805  2.123501  2.037590   \n",
      "\n",
      "         s1        s2        s3        s4  \n",
      "1  3.326344  3.314650  3.623102  3.005153  \n",
      "2  3.584250  3.434918  3.634951  3.207415  \n",
      "3  3.614662  3.536235  3.590344  3.227182  \n",
      "4  3.614662  3.536235  3.590344  3.227182  \n",
      "5  3.326344  3.314650  3.623102  3.005153  \n"
     ]
    }
   ],
   "source": [
    "print(len(df))\n",
    "print(df.head())"
   ]
  },
  {
   "cell_type": "code",
   "execution_count": 14,
   "metadata": {
    "collapsed": false
   },
   "outputs": [],
   "source": [
    "df = df[(df.id!=-1) & (~df.id.isnull())]\n",
    "df[\"id\"] = df[\"id\"].apply(lambda v: int(v))\n",
    "df.to_csv(\"../../data/badges/covariates.tsv\", sep=\"\\t\", index=False, header=True)"
   ]
  },
  {
   "cell_type": "code",
   "execution_count": null,
   "metadata": {
    "collapsed": true
   },
   "outputs": [],
   "source": []
  }
 ],
 "metadata": {
  "anaconda-cloud": {},
  "kernelspec": {
   "display_name": "Python [Root]",
   "language": "python",
   "name": "Python [Root]"
  },
  "language_info": {
   "codemirror_mode": {
    "name": "ipython",
    "version": 3
   },
   "file_extension": ".py",
   "mimetype": "text/x-python",
   "name": "python",
   "nbconvert_exporter": "python",
   "pygments_lexer": "ipython3",
   "version": "3.5.2"
  }
 },
 "nbformat": 4,
 "nbformat_minor": 0
}
